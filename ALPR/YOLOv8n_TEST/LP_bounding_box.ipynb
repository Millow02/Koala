{
 "cells": [
  {
   "cell_type": "code",
   "execution_count": null,
   "metadata": {},
   "outputs": [],
   "source": [
    "pip install ultralytics"
   ]
  },
  {
   "cell_type": "code",
   "execution_count": null,
   "metadata": {},
   "outputs": [],
   "source": [
    "\n",
    "from ultralytics import YOLO\n"
   ]
  },
  {
   "cell_type": "code",
   "execution_count": null,
   "metadata": {},
   "outputs": [],
   "source": [
    "\n",
    "# 1. Load a pre-trained YOLOv8 model (e.g., nano for speed)\n",
    "model = YOLO('yolov8n.pt')  \n",
    "\n",
    "# 2. Optional: freeze certain layers (e.g., freeze the entire backbone)\n",
    "#    For example, YOLOv8n's backbone might have 10 layers; \n",
    "#    freezing them means only the head is trainable:\n",
    "model.freeze(10)  # freeze first 10 layers\n",
    "\n",
    "# 3. Train\n",
    "model.train(\n",
    "    data='my_custom_data.yaml',  # path to the YAML file\n",
    "    epochs=50,                   # number of training epochs\n",
    "    imgsz=640,                   # image size for training\n",
    "    batch=16,                    # batch size\n",
    "    lr0=1e-3,                    # initial learning rate\n",
    "    device=0                     # which GPU (or 'cpu')\n",
    ")\n",
    "\n",
    "# 4. Validate or predict\n",
    "metrics = model.val()\n",
    "print(metrics)\n",
    "\n",
    "# 5. Save the final model for inference\n",
    "model.export(format='onnx')  # or 'torchscript', 'tflite', etc.\n"
   ]
  }
 ],
 "metadata": {
  "language_info": {
   "name": "python"
  }
 },
 "nbformat": 4,
 "nbformat_minor": 2
}
