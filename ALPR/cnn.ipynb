{
 "cells": [
  {
   "cell_type": "code",
   "execution_count": null,
   "id": "86ae9170c5d5b497",
   "metadata": {
    "ExecuteTime": {
     "end_time": "2024-11-27T01:29:07.391387Z",
     "start_time": "2024-11-27T01:29:04.147359Z"
    }
   },
   "outputs": [],
   "source": [
    "import torch\n",
    "import torch.nn as nn\n",
    "import torch.optim as optim\n",
    "import torchvision\n",
    "import torchvision.transforms as transforms\n",
    "from torch.utils.data import DataLoader\n",
    "import numpy as np\n",
    "from torch.cuda.amp import GradScaler, autocast\n"
   ]
  },
  {
   "cell_type": "code",
   "execution_count": 36,
   "id": "b6a6f8d030983158",
   "metadata": {
    "ExecuteTime": {
     "end_time": "2024-11-27T01:29:07.431223Z",
     "start_time": "2024-11-27T01:29:07.400392Z"
    }
   },
   "outputs": [
    {
     "name": "stdout",
     "output_type": "stream",
     "text": [
      "Using device: cuda\n"
     ]
    }
   ],
   "source": [
    "# Set device\n",
    "device = torch.device(\"cuda\" if torch.cuda.is_available() else \"cpu\")\n",
    "print(f\"Using device: {device}\")"
   ]
  },
  {
   "cell_type": "code",
   "execution_count": 37,
   "id": "ac12e88b7e5b2aab",
   "metadata": {
    "ExecuteTime": {
     "end_time": "2024-11-27T01:29:08.886534Z",
     "start_time": "2024-11-27T01:29:07.589198Z"
    }
   },
   "outputs": [
    {
     "name": "stdout",
     "output_type": "stream",
     "text": [
      "Files already downloaded and verified\n",
      "Files already downloaded and verified\n",
      "Done loading initial data\n",
      "Created subsets\n",
      "Training subset size: 5000\n",
      "Testing subset size: 1000\n",
      "['airplane', 'automobile', 'bird', 'cat', 'deer', 'dog', 'frog', 'horse', 'ship', 'truck']\n"
     ]
    }
   ],
   "source": [
    "from torch.utils.data import Subset\n",
    "\n",
    "\n",
    "# Data transforms\n",
    "transform = transforms.Compose([\n",
    "    transforms.RandomHorizontalFlip(),  # Augmentation\n",
    "    transforms.RandomCrop(32, padding=4),  # Augmentation\n",
    "    transforms.ToTensor(),\n",
    "    transforms.Normalize([0.485, 0.456, 0.406], std=[0.229, 0.224, 0.225])  # Normalize using dataset statistics\n",
    "])\n",
    "\n",
    "# Load CIFAR-10 dataset with specified transformations\n",
    "train_data = torchvision.datasets.CIFAR10(root='./data', train=True, download=True, transform=transform)\n",
    "test_data = torchvision.datasets.CIFAR10(root='./data', train=False, download=True, transform=transform)\n",
    "print(\"Done loading initial data\")\n",
    "\n",
    "# Initialize lists to store indices for training and testing samples\n",
    "train_indices = []\n",
    "test_indices = []\n",
    "\n",
    "# Loop through each class (CIFAR-10 has 10 classes)\n",
    "for class_idx in range(10):\n",
    "    # Get the indices of samples belonging to the current class in the training and testing datasets\n",
    "    train_class_indices = np.where(np.array(train_data.targets) == class_idx)[0]\n",
    "    test_class_indices = np.where(np.array(test_data.targets) == class_idx)[0]\n",
    "\n",
    "    # Select the first 500 samples for training and 100 samples for testing per class\n",
    "    train_indices.extend(train_class_indices[:500])\n",
    "    test_indices.extend(test_class_indices[:100])\n",
    "\n",
    "# Create subsets using the selected indices\n",
    "train_data_subset = Subset(train_data, train_indices)  # First 500 training samples per class\n",
    "test_data_subset = Subset(test_data, test_indices)  # First 100 testing samples per class\n",
    "print(\"Created subsets\")\n",
    "\n",
    "# Print the sizes of each subset\n",
    "print(f\"Training subset size: {len(train_data_subset)}\")\n",
    "print(f\"Testing subset size: {len(test_data_subset)}\")\n",
    "\n",
    "\n",
    "\n",
    "# Data loaders\n",
    "train_loader = DataLoader(train_data_subset, batch_size=128, shuffle=True, num_workers=4)\n",
    "test_loader = DataLoader(test_data_subset, batch_size=128, shuffle=False, num_workers=4)\n",
    "\n",
    "# Get the class names\n",
    "class_names = train_data.classes\n",
    "print(class_names)\n"
   ]
  },
  {
   "cell_type": "markdown",
   "id": "e1b7331b",
   "metadata": {},
   "source": [
    "# VG11 Model\n",
    "---\n",
    "The following model is trained on 5000 Images (PCA Reduced), \n",
    "\n",
    "*You should use the following in your training process unless specified otherwise: cross-entropy loss\n",
    "torch.nn.CrossEntropyLoss, and optimize using SGD optimizer with momentum=0.9.*\n",
    "\n",
    "loss function is cross entropy loss and stochastic gradient descent is used as the optimization function."
   ]
  },
  {
   "cell_type": "code",
   "execution_count": 38,
   "id": "9695cfbd0846baed",
   "metadata": {
    "ExecuteTime": {
     "end_time": "2024-11-27T01:29:08.969669Z",
     "start_time": "2024-11-27T01:29:08.893882Z"
    }
   },
   "outputs": [],
   "source": [
    "class VGG11(nn.Module):\n",
    "    def __init__(self, num_classes=10):\n",
    "        super(VGG11, self).__init__()\n",
    "        self.features = nn.Sequential(\n",
    "            #feature extraction block:\n",
    "            #layer 1: Convolution + BatchNorm + ReLU + MaxPool\n",
    "            nn.Conv2d(3, 64, kernel_size=3, stride=1, padding=1),  # Input channels=3 for RGB\n",
    "            # create a convolutional layer that takes an RGB image (3 channels) and extracts 64 features using 3×3 filters\n",
    "            nn.BatchNorm2d(64), #normalize the 64 feature maps output by the first convolutional layer\n",
    "            nn.ReLU(inplace=True), #activation funct; add non-linearity (set all negative values to 0) (also this reduces overfitting)\n",
    "            #inplace=True means the ReLU operation modifies the data in place, saving memory\n",
    "            nn.MaxPool2d(kernel_size=2, stride=2), #reduce the width and height of the image by half\n",
    "\n",
    "            # layer 2: 1 Convolution + BatchNorm + ReLU + MaxPool\n",
    "            nn.Conv2d(64, 128, kernel_size=3, stride=1, padding=1),  # Increase features from 64 to 128\n",
    "            nn.BatchNorm2d(128),  # Normalizes the 128 feature maps\n",
    "            nn.ReLU(inplace=True),  # Applies non-linearity\n",
    "            nn.MaxPool2d(kernel_size=2, stride=2),  # Reduce spatial dimensions by half\n",
    "\n",
    "            # layer 3: 2 consecutive convolutional layers + BatchNorm + ReLU + MaxPool\n",
    "            nn.Conv2d(128, 256, kernel_size=3, stride=1, padding=1),  # First 256-channel convolution\n",
    "            nn.BatchNorm2d(256),  # Normalizes the 256 feature maps\n",
    "            nn.ReLU(inplace=True),  # Applies non-linearity\n",
    "            nn.Conv2d(256, 256, kernel_size=3, stride=1, padding=1),  # Second 256-channel convolution\n",
    "            nn.BatchNorm2d(256),  # Normalizes the 256 feature maps.\n",
    "            nn.ReLU(inplace=True),  # Applies non-linearity\n",
    "            nn.MaxPool2d(kernel_size=2, stride=2),  # Reduce spatial dimensions by half\n",
    "\n",
    "            #layer 4: 2 consecutive convolutional layers + BatchNorm + ReLU + MaxPool\n",
    "            nn.Conv2d(256, 512, kernel_size=3, stride=1, padding=1),  # First 512-channel convolution\n",
    "            nn.BatchNorm2d(512),  # Normalize the 512 feature maps\n",
    "            nn.ReLU(inplace=True),  # Apply non-linearity\n",
    "            nn.Conv2d(512, 512, kernel_size=3, stride=1, padding=1),  # Second 512-channel convolution\n",
    "            nn.BatchNorm2d(512),  # Normalize the 512 feature maps\n",
    "            nn.ReLU(inplace=True),  # Applies non-linearity\n",
    "            nn.MaxPool2d(kernel_size=2, stride=2),  # reduce spatial dimensions by half again\n",
    "\n",
    "            # layer 5: 2 consecutive convolutional layers + BatchNorm + ReLU + MaxPool\n",
    "            nn.Conv2d(512, 512, kernel_size=3, stride=1, padding=1),  # First 512-channel convolution\n",
    "            nn.BatchNorm2d(512),  # Normalizing the 512 feature maps\n",
    "            nn.ReLU(inplace=True),  # Apply non-linearity\n",
    "            nn.Conv2d(512, 512, kernel_size=3, stride=1, padding=1),  # 2nd 512-channel convolution\n",
    "            nn.BatchNorm2d(512),  # normalize the 512 feature maps\n",
    "            nn.ReLU(inplace=True),  # apply non-linearity\n",
    "            nn.MaxPool2d(kernel_size=2, stride=2),  # Final pooling, reduce spatial dimensions by half\n",
    "        )\n",
    "        self.classifier = nn.Sequential(\n",
    "            nn.Linear(512, 4096),\n",
    "            nn.ReLU(inplace=True),\n",
    "            nn.Dropout(0.5),\n",
    "            nn.Linear(4096, 4096),\n",
    "            nn.ReLU(inplace=True),\n",
    "            nn.Dropout(0.5),\n",
    "            nn.Linear(4096, num_classes),\n",
    "        )\n",
    "\n",
    "    def forward(self, x): # data flow through network\n",
    "        x = self.features(x) # Pass through feature extractor\n",
    "        x = x.view(x.size(0), -1)  # Flatten before fully connected layers\n",
    "        x = self.classifier(x) # Pass through classifier\n",
    "        return x"
   ]
  },
  {
   "cell_type": "code",
   "execution_count": null,
   "id": "6da5e5a3bb5db279",
   "metadata": {
    "ExecuteTime": {
     "end_time": "2024-11-27T01:29:09.255863Z",
     "start_time": "2024-11-27T01:29:08.977050Z"
    }
   },
   "outputs": [],
   "source": [
    "# Instantiate the model\n",
    "model = VGG11().to(device)\n",
    "\n",
    "# Loss and optimizer\n",
    "criterion = nn.CrossEntropyLoss()\n",
    "optimizer = optim.SGD(model.parameters(), lr=0.01, momentum=0.9, weight_decay=5e-4)"
   ]
  },
  {
   "cell_type": "code",
   "execution_count": null,
   "id": "a7605d972d1641fb",
   "metadata": {
    "ExecuteTime": {
     "end_time": "2024-11-27T01:36:27.862294Z",
     "start_time": "2024-11-27T01:36:27.855452Z"
    }
   },
   "outputs": [],
   "source": [
    "# Training Function with Mixed Precision\n",
    "\n",
    "from sklearn.metrics import precision_score, recall_score, f1_score, accuracy_score\n",
    "\n",
    "def train(model, train_loader, criterion, optimizer, device):\n",
    "    model.train()  # Set model to training mode\n",
    "    total_loss = 0\n",
    "    correct = 0\n",
    "    total = 0\n",
    "    all_preds = []\n",
    "    all_labels = []\n",
    "\n",
    "    for data, target in train_loader:\n",
    "        data, target = data.to(device), target.to(device)\n",
    "\n",
    "        optimizer.zero_grad()  # Zero the gradients\n",
    "        output = model(data)  # Forward pass\n",
    "        loss = criterion(output, target)  # Compute loss\n",
    "        loss.backward()  # Backpropagate the loss\n",
    "        optimizer.step()  # Update the model weights\n",
    "\n",
    "        total_loss += loss.item()  # Accumulate loss\n",
    "        _, predicted = torch.max(output, 1)  # Get predicted labels\n",
    "        correct += (predicted == target).sum().item()  # Count correct predictions\n",
    "        total += target.size(0)\n",
    "\n",
    "        # Save predictions and true labels for metric calculations\n",
    "        all_preds.extend(predicted.cpu().numpy())\n",
    "        all_labels.extend(target.cpu().numpy())\n",
    "\n",
    "    # Calculate metrics\n",
    "    accuracy = 100 * correct / total\n",
    "    precision = precision_score(all_labels, all_preds, average='weighted')  # Adjust for multiclass\n",
    "    recall = recall_score(all_labels, all_preds, average='weighted')\n",
    "    f1 = f1_score(all_labels, all_preds, average='weighted')\n",
    "\n",
    "    # Return the loss, accuracy, precision, recall, and F1 score\n",
    "    return total_loss / len(train_loader), accuracy, precision, recall, f1\n",
    "\n",
    "\n",
    "# Evaluation Function with Mixed Precision\n",
    "def evaluate(model, test_loader, criterion, device):\n",
    "    model.eval()  # Set model to evaluation mode\n",
    "    total_loss = 0\n",
    "    correct = 0\n",
    "    total = 0\n",
    "    all_preds = []\n",
    "    all_labels = []\n",
    "\n",
    "    with torch.no_grad():  # Disable gradient calculation during evaluation\n",
    "        for data, target in test_loader:\n",
    "            data, target = data.to(device), target.to(device)\n",
    "\n",
    "            output = model(data)  # Forward pass\n",
    "            loss = criterion(output, target)  # Compute loss\n",
    "\n",
    "            total_loss += loss.item()  # Accumulate loss\n",
    "            _, predicted = torch.max(output, 1)  # Get predicted labels\n",
    "            correct += (predicted == target).sum().item()  # Count correct predictions\n",
    "            total += target.size(0)\n",
    "\n",
    "            # Save predictions and true labels for metric calculations\n",
    "            all_preds.extend(predicted.cpu().numpy())\n",
    "            all_labels.extend(target.cpu().numpy())\n",
    "\n",
    "    # Calculate metrics\n",
    "    accuracy = 100 * correct / total\n",
    "    precision = precision_score(all_labels, all_preds, average='weighted')  # Adjust for multiclass\n",
    "    recall = recall_score(all_labels, all_preds, average='weighted')\n",
    "    f1 = f1_score(all_labels, all_preds, average='weighted')\n",
    "\n",
    "    # Return the loss, accuracy, precision, recall, and F1 score\n",
    "    return total_loss / len(test_loader), accuracy, precision, recall, f1\n"
   ]
  },
  {
   "cell_type": "code",
   "execution_count": null,
   "id": "6eb39046540af477",
   "metadata": {
    "ExecuteTime": {
     "end_time": "2024-11-27T01:45:55.428010Z",
     "start_time": "2024-11-27T01:36:31.288697Z"
    }
   },
   "outputs": [],
   "source": [
    "import torch\n",
    "import torch.optim as optim\n",
    "from sklearn.metrics import accuracy_score, precision_score, recall_score, f1_score\n",
    "\n",
    "# Training Loop\n",
    "scheduler = optim.lr_scheduler.StepLR(optimizer, step_size=5, gamma=0.1)  # Reduces learning rate by factor of 0.1 every 5 epochs\n",
    "\n",
    "for epoch in range(20):\n",
    "    model.to(device)  # Ensure model is on the right device\n",
    "\n",
    "    # train model, calculate train loss and accuracy\n",
    "    train_loss, train_acc, train_precision, train_recall, train_f1 = train(model, train_loader, criterion, optimizer, device)\n",
    "\n",
    "    # Evaluate model & calculate test loss and accuracy\n",
    "    test_loss, test_acc, test_precision, test_recall, test_f1 = evaluate(model, test_loader, criterion, device)\n",
    "\n",
    "    # Print the results for this epoch\n",
    "    print(\n",
    "        f\"Epoch {epoch+1}: \"\n",
    "        f\"Train Loss={train_loss:.4f}, Train Acc={train_acc:.2f}%, \"\n",
    "        f\"Train Precision={train_precision:.4f}, Train Recall={train_recall:.4f}, Train F1={train_f1:.4f}, \"\n",
    "        f\"Test Loss={test_loss:.4f}, Test Acc={test_acc:.2f}%, \"\n",
    "        f\"Test Precision={test_precision:.4f}, Test Recall={test_recall:.4f}, Test F1={test_f1:.4f}\"\n",
    "    )\n",
    "\n",
    "    # Step the scheduler to adjust the learning rate\n",
    "    scheduler.step()\n"
   ]
  },
  {
   "cell_type": "markdown",
   "id": "07493d24",
   "metadata": {},
   "source": [
    "# Experiments \n",
    "---\n",
    "## VGGAddedLayer\n",
    "\n",
    "1. For VG11\n",
    "Layer Added: Block 6 has been added. This will be used to see if the models performance has any real improvement from the previous Trainign run for VG11.\n",
    "Layer Removed: Block 5 has been removed to see if the model was overfitting or not.\n",
    "\n",
    "## Experimenting with different kernel sizes\n",
    "\n",
    "2. VGG2 and VGG7"
   ]
  },
  {
   "cell_type": "code",
   "execution_count": 39,
   "id": "524bc28efd262907",
   "metadata": {
    "ExecuteTime": {
     "end_time": "2024-11-27T02:41:39.538961Z",
     "start_time": "2024-11-27T02:41:39.524392Z"
    }
   },
   "outputs": [],
   "source": [
    "import torch.nn.functional as F\n",
    "\n",
    "# CustomVGG with added layers\n",
    "class CustomVGGAddedLayer(nn.Module):\n",
    "    def __init__(self, num_classes=10):\n",
    "        super(CustomVGGAddedLayer, self).__init__()\n",
    "         # Feature extractor\n",
    "        self.features = nn.Sequential(\n",
    "            # Block 1\n",
    "            nn.Conv2d(3, 64, kernel_size=3, stride=1, padding=1),\n",
    "            nn.BatchNorm2d(64),\n",
    "            nn.ReLU(inplace=True),\n",
    "            nn.MaxPool2d(kernel_size=2, stride=2),\n",
    "\n",
    "            # Block 2\n",
    "            nn.Conv2d(64, 128, kernel_size=3, stride=1, padding=1),\n",
    "            nn.BatchNorm2d(128),\n",
    "            nn.ReLU(inplace=True),\n",
    "            nn.MaxPool2d(kernel_size=2, stride=2),\n",
    "\n",
    "            # Block 3\n",
    "            nn.Conv2d(128, 256, kernel_size=3, stride=1, padding=1),\n",
    "            nn.BatchNorm2d(256),\n",
    "            nn.ReLU(inplace=True),\n",
    "            nn.Conv2d(256, 256, kernel_size=3, stride=1, padding=1),\n",
    "            nn.BatchNorm2d(256),\n",
    "            nn.ReLU(inplace=True),\n",
    "            nn.MaxPool2d(kernel_size=2, stride=2),\n",
    "\n",
    "            # Block 4\n",
    "            nn.Conv2d(256, 512, kernel_size=3, stride=1, padding=1),\n",
    "            nn.BatchNorm2d(512),\n",
    "            nn.ReLU(inplace=True),\n",
    "            nn.Conv2d(512, 512, kernel_size=3, stride=1, padding=1),\n",
    "            nn.BatchNorm2d(512),\n",
    "            nn.ReLU(inplace=True),\n",
    "            nn.MaxPool2d(kernel_size=2, stride=2),\n",
    "\n",
    "            # Block 5\n",
    "            nn.Conv2d(512, 512, kernel_size=3, stride=1, padding=1),\n",
    "            nn.BatchNorm2d(512),\n",
    "            nn.ReLU(inplace=True),\n",
    "            nn.Conv2d(512, 512, kernel_size=3, stride=1, padding=1),\n",
    "            nn.BatchNorm2d(512),\n",
    "            nn.ReLU(inplace=True),\n",
    "            nn.MaxPool2d(kernel_size=2, stride=2),\n",
    "\n",
    "            # Block 6 (Added)\n",
    "            nn.Conv2d(512, 512, kernel_size=3, stride=1, padding=1),  # Additional Conv layer\n",
    "            nn.BatchNorm2d(512),\n",
    "            nn.ReLU(inplace=True)\n",
    "            # No MaxPool to prevent feature map size shrinkage to 0x0\n",
    "        )\n",
    "\n",
    "        # Classifier with Global Average Pooling\n",
    "        self.classifier = nn.Sequential(\n",
    "            nn.Linear(512, 4096),\n",
    "            nn.ReLU(inplace=True),\n",
    "            nn.Dropout(0.5),\n",
    "            nn.Linear(4096, 4096),\n",
    "            nn.ReLU(inplace=True),\n",
    "            nn.Dropout(0.5),\n",
    "            nn.Linear(4096, num_classes),\n",
    "        )\n",
    "\n",
    "    def forward(self, x):\n",
    "        x = self.features(x)\n",
    "        x = F.adaptive_avg_pool2d(x, (1, 1))  # Global Average Pooling to size 1x1\n",
    "        x = x.view(x.size(0), -1)  # Flatten to (batch_size, 512)\n",
    "        x = self.classifier(x)\n",
    "        return x\n",
    "\n",
    "\n",
    "# CustomVGG with removed layers\n",
    "\n",
    "import torch\n",
    "import torch.nn as nn\n",
    "\n",
    "class CustomVGGRemovedLayer(nn.Module):\n",
    "    def __init__(self, num_classes=10):\n",
    "        super(CustomVGGRemovedLayer, self).__init__()\n",
    "\n",
    "        # Reduce number of convolutional layers\n",
    "        self.features = nn.Sequential(\n",
    "            # First Convolution Block: 3x32x32 -> 64x32x32\n",
    "            nn.Conv2d(3, 64, kernel_size=3, padding=1),\n",
    "            nn.ReLU(),\n",
    "            nn.MaxPool2d(kernel_size=2, stride=2),  # 64x16x16\n",
    "\n",
    "            # Second Convolution Block: 64x16x16 -> 128x16x16\n",
    "            nn.Conv2d(64, 128, kernel_size=3, padding=1),\n",
    "            nn.ReLU(),\n",
    "            nn.MaxPool2d(kernel_size=2, stride=2),  # 128x8x8\n",
    "\n",
    "            # Third Convolution Block: 128x8x8 -> 256x8x8\n",
    "            nn.Conv2d(128, 256, kernel_size=3, padding=1),\n",
    "            nn.ReLU(),\n",
    "            nn.MaxPool2d(kernel_size=2, stride=2),  # 256x4x4\n",
    "        )\n",
    "\n",
    "        # Fully Connected Layer\n",
    "        self.classifier = nn.Sequential(\n",
    "            nn.Linear(256 * 4 * 4, 4096),  # 256 * 4 * 4 is the flattened size\n",
    "            nn.ReLU(),\n",
    "            nn.Dropout(0.5),\n",
    "            nn.Linear(4096, 4096),\n",
    "            nn.ReLU(),\n",
    "            nn.Dropout(0.5),\n",
    "            nn.Linear(4096, num_classes)\n",
    "        )\n",
    "\n",
    "    def forward(self, x):\n",
    "        x = self.features(x)  # Pass through convolutional layers\n",
    "        x = x.view(x.size(0), -1)  # Flatten the tensor (batch_size, 256 * 4 * 4)\n",
    "        x = self.classifier(x)  # Pass through fully connected layers\n",
    "        return x\n",
    "\n",
    "\n",
    "\n",
    "# CustomVGG with kernel 2x2\n",
    "class CustomVGG2(nn.Module):\n",
    "    def __init__(self, num_classes=10):\n",
    "        super(CustomVGG2, self).__init__()\n",
    "\n",
    "        # Define the original VGG architecture with 2x2 kernels\n",
    "        # VGG layers with 2x2 kernels\n",
    "        self.conv1 = nn.Conv2d(3, 64, kernel_size=2, padding=1)\n",
    "        self.conv2 = nn.Conv2d(64, 128, kernel_size=2, padding=1)\n",
    "        self.conv3 = nn.Conv2d(128, 256, kernel_size=2, padding=1)\n",
    "        self.conv4 = nn.Conv2d(256, 512, kernel_size=2, padding=1)\n",
    "        self.conv5 = nn.Conv2d(512, 512, kernel_size=2, padding=1)\n",
    "\n",
    "        # MaxPool2d layers\n",
    "        self.pool = nn.MaxPool2d(kernel_size=2, stride=2)\n",
    "\n",
    "        # Calculate the size of the flattened layer based on input size (32x32 for CIFAR-10)\n",
    "        self.fc_input_size = 512 * 1 * 1  # After 5 convolutional layers and pooling, CIFAR-10 images (32x32) get reduced to 1x1\n",
    "\n",
    "        # Define fully connected layers (same as original VGG)\n",
    "        self.fc1 = nn.Linear(self.fc_input_size, 4096)\n",
    "        self.fc2 = nn.Linear(4096, 4096)\n",
    "        self.fc3 = nn.Linear(4096, num_classes)  # Output layer\n",
    "\n",
    "    def forward(self, x):\n",
    "        # Apply convolutional layers with ReLU activation\n",
    "        x = self.pool(torch.relu(self.conv1(x)))\n",
    "        x = self.pool(torch.relu(self.conv2(x)))\n",
    "        x = self.pool(torch.relu(self.conv3(x)))\n",
    "        x = self.pool(torch.relu(self.conv4(x)))\n",
    "        x = self.pool(torch.relu(self.conv5(x)))\n",
    "\n",
    "        # Flatten the tensor before passing it to fully connected layers\n",
    "        x = x.view(-1, self.fc_input_size)  # Flatten to (batch_size, 512*1*1)\n",
    "\n",
    "        # Apply fully connected layers with ReLU activation\n",
    "        x = torch.relu(self.fc1(x))\n",
    "        x = torch.relu(self.fc2(x))\n",
    "        x = self.fc3(x)  # Final output layer\n",
    "\n",
    "        return x\n",
    "\n",
    "# CustomVGG with kernel 7x7\n",
    "\n",
    "class CustomVGG7(nn.Module):\n",
    "    def __init__(self, num_classes=10):\n",
    "        super(CustomVGG7, self).__init__()\n",
    "        self.features = nn.Sequential(\n",
    "            nn.Conv2d(3, 64, kernel_size=7, stride=1, padding=3),  # 32x32 -> 32x32\n",
    "            nn.BatchNorm2d(64),\n",
    "            nn.ReLU(inplace=True),\n",
    "            nn.MaxPool2d(kernel_size=2, stride=2),  # 32x32 -> 16x16\n",
    "            nn.Conv2d(64, 128, kernel_size=7, stride=1, padding=3),  # 16x16 -> 16x16\n",
    "            nn.BatchNorm2d(128),\n",
    "            nn.ReLU(inplace=True),\n",
    "            nn.MaxPool2d(kernel_size=2, stride=2),  # 16x16 -> 8x8\n",
    "            nn.Conv2d(128, 256, kernel_size=7, stride=1, padding=3),  # 8x8 -> 8x8\n",
    "            nn.BatchNorm2d(256),\n",
    "            nn.ReLU(inplace=True),\n",
    "            nn.MaxPool2d(kernel_size=2, stride=2),  # 8x8 -> 4x4\n",
    "            nn.Conv2d(256, 512, kernel_size=7, stride=1, padding=3),  # 4x4 -> 4x4\n",
    "            nn.BatchNorm2d(512),\n",
    "            nn.ReLU(inplace=True),\n",
    "            nn.MaxPool2d(kernel_size=2, stride=2),  # 4x4 -> 2x2\n",
    "            nn.Conv2d(512, 512, kernel_size=7, stride=1, padding=3),  # 2x2 -> 2x2\n",
    "            nn.BatchNorm2d(512),\n",
    "            nn.ReLU(inplace=True),\n",
    "            nn.MaxPool2d(kernel_size=2, stride=2),  # 2x2 -> 1x1\n",
    "        )\n",
    "\n",
    "        # Fully connected layers\n",
    "        self.classifier = nn.Sequential(\n",
    "            nn.Linear(512, 4096),\n",
    "            nn.ReLU(inplace=True),\n",
    "            nn.Dropout(0.5),\n",
    "            nn.Linear(4096, 4096),\n",
    "            nn.ReLU(inplace=True),\n",
    "            nn.Dropout(0.5),\n",
    "            nn.Linear(4096, num_classes),\n",
    "        )\n",
    "\n",
    "        # Apply weight initialization\n",
    "        self.apply(self.weight_init)\n",
    "\n",
    "    def forward(self, x):\n",
    "        # Apply feature extraction\n",
    "        x = self.features(x)\n",
    "\n",
    "        # Flatten the tensor to match the input size for the fully connected layers\n",
    "        x = x.view(x.size(0), -1)  # Flatten to (batch_size, 512)\n",
    "\n",
    "        # Apply classifier layers\n",
    "        x = self.classifier(x)\n",
    "\n",
    "        return x\n",
    "\n",
    "    def weight_init(self, m):\n",
    "        \"\"\"Initialize weights using He initialization (kaiming)\"\"\"\n",
    "        if isinstance(m, nn.Conv2d):\n",
    "            # He initialization for Conv2D layers\n",
    "            nn.init.kaiming_normal_(m.weight, mode='fan_out', nonlinearity='relu')\n",
    "            if m.bias is not None:\n",
    "                nn.init.constant_(m.bias, 0)  # Initialize biases to 0\n",
    "        elif isinstance(m, nn.Linear):\n",
    "            # He initialization for Linear layers\n",
    "            nn.init.kaiming_normal_(m.weight, mode='fan_out', nonlinearity='relu')\n",
    "            if m.bias is not None:\n",
    "                nn.init.constant_(m.bias, 0)  # Initialize biases to 0\n",
    "        # No initialization for ReLU layers, as they have no weights/biases\n",
    "\n"
   ]
  },
  {
   "cell_type": "code",
   "execution_count": null,
   "id": "9f8364c4741a4eff",
   "metadata": {
    "ExecuteTime": {
     "end_time": "2024-11-27T02:39:44.098518Z",
     "start_time": "2024-11-27T02:39:44.093133Z"
    }
   },
   "outputs": [],
   "source": [
    "from sklearn.metrics import precision_recall_fscore_support\n",
    "\n",
    "def train_variant(model, train_loader, criterion, optimizer, device):\n",
    "    model.train()\n",
    "    all_preds = []\n",
    "    all_labels = []\n",
    "    running_loss = 0.0\n",
    "\n",
    "    for inputs, labels in train_loader:\n",
    "        inputs, labels = inputs.to(device), labels.to(device)\n",
    "\n",
    "        optimizer.zero_grad()\n",
    "\n",
    "        outputs = model(inputs)\n",
    "        loss = criterion(outputs, labels)\n",
    "        loss.backward()\n",
    "        optimizer.step()\n",
    "\n",
    "        running_loss += loss.item()\n",
    "\n",
    "        # Get predictions\n",
    "        _, predicted = torch.max(outputs, 1)\n",
    "        all_preds.extend(predicted.cpu().numpy())\n",
    "        all_labels.extend(labels.cpu().numpy())\n",
    "\n",
    "    # Calculate metrics\n",
    "    avg_loss = running_loss / len(train_loader)\n",
    "    acc = (np.array(all_preds) == np.array(all_labels)).mean() * 100\n",
    "    precision, recall, f1, _ = precision_recall_fscore_support(\n",
    "        all_labels, all_preds, average='macro', zero_division=0  # This handles the zero-division warning\n",
    "    )\n",
    "\n",
    "    return avg_loss, acc, precision, recall, f1\n",
    "\n",
    "def evaluate_variant(model, test_loader, criterion, device):\n",
    "    model.eval()\n",
    "    all_preds = []\n",
    "    all_labels = []\n",
    "    running_loss = 0.0\n",
    "\n",
    "    with torch.no_grad():\n",
    "        for inputs, labels in test_loader:\n",
    "            inputs, labels = inputs.to(device), labels.to(device)\n",
    "\n",
    "            outputs = model(inputs)\n",
    "            loss = criterion(outputs, labels)\n",
    "            running_loss += loss.item()\n",
    "\n",
    "            # Get predictions\n",
    "            _, predicted = torch.max(outputs, 1)\n",
    "            all_preds.extend(predicted.cpu().numpy())\n",
    "            all_labels.extend(labels.cpu().numpy())\n",
    "\n",
    "    # Calculate metrics\n",
    "    avg_loss = running_loss / len(test_loader)\n",
    "    acc = (np.array(all_preds) == np.array(all_labels)).mean() * 100\n",
    "    precision, recall, f1, _ = precision_recall_fscore_support(\n",
    "        all_labels, all_preds, average='macro', zero_division=0  # This handles the zero-division warning\n",
    "    )\n",
    "\n",
    "    return avg_loss, acc, precision, recall, f1\n"
   ]
  },
  {
   "cell_type": "code",
   "execution_count": null,
   "id": "2af36906e6db10cf",
   "metadata": {
    "ExecuteTime": {
     "end_time": "2024-11-27T02:08:23.007358Z",
     "start_time": "2024-11-27T02:03:34.747402Z"
    }
   },
   "outputs": [],
   "source": [
    "import torch.optim as optim\n",
    "\n",
    "# Training Loop for customVGGAddedLayerModel\n",
    "scheduler = optim.lr_scheduler.StepLR(optimizer, step_size=5, gamma=0.1)  # Reduces learning rate by factor of 0.1 every 5 epochs\n",
    "\n",
    "# Loop over epochs\n",
    "for epoch in range(10):\n",
    "    # Ensure model is on the right device, initializing it only once before training starts\n",
    "    customVGGAddedLayerModel = CustomVGGAddedLayer(num_classes=10).to(device)\n",
    "\n",
    "    # Train model, calculate train loss and accuracy, and other metrics\n",
    "    # Ensure the model is in training mode\n",
    "    customVGGAddedLayerModel.train()\n",
    "    train_loss, train_acc, train_precision, train_recall, train_f1 = train_variant(\n",
    "        customVGGAddedLayerModel, train_loader, criterion, optimizer, device\n",
    "    )\n",
    "\n",
    "    # Evaluate model & calculate test loss and accuracy, and other metrics\n",
    "    # Ensure the model is in evaluation mode\n",
    "    customVGGAddedLayerModel.eval()\n",
    "    test_loss, test_acc, test_precision, test_recall, test_f1 = evaluate_variant(\n",
    "        customVGGAddedLayerModel, test_loader, criterion, device\n",
    "    )\n",
    "\n",
    "    # Print the results for this epoch\n",
    "    print(\n",
    "        f\"Epoch {epoch+1}: \"\n",
    "        f\"Train Loss={train_loss:.4f}, Train Acc={train_acc:.2f}%, Train Precision={train_precision:.2f}, \"\n",
    "        f\"Train Recall={train_recall:.2f}, Train F1={train_f1:.2f}, \"\n",
    "        f\"Test Loss={test_loss:.4f}, Test Acc={test_acc:.2f}%, Test Precision={test_precision:.2f}, \"\n",
    "        f\"Test Recall={test_recall:.2f}, Test F1={test_f1:.2f}\"\n",
    "    )\n",
    "\n",
    "    # Step the scheduler to adjust the learning rate at the end of the epoch\n",
    "    scheduler.step()\n"
   ]
  },
  {
   "cell_type": "code",
   "execution_count": null,
   "id": "79c955e6f67c5fb9",
   "metadata": {
    "ExecuteTime": {
     "end_time": "2024-11-27T02:21:57.130574Z",
     "start_time": "2024-11-27T02:17:14.519024Z"
    }
   },
   "outputs": [],
   "source": [
    "# Training Loop for CustomVGGRemovedLayer Model\n",
    "scheduler = optim.lr_scheduler.StepLR(optimizer, step_size=5, gamma=0.1)  # Reduces learning rate by factor of 0.1 every 5 epochs\n",
    "\n",
    "for epoch in range(10):\n",
    "    customVGGRemovedLayerModel = CustomVGGRemovedLayer(num_classes=10).to(device)\n",
    "    customVGGRemovedLayerModel.to(device)  # Ensure model is on the right device\n",
    "\n",
    "    # Train model, calculate train loss and accuracy, and other metrics\n",
    "    # Modify the train() function to return all necessary values\n",
    "    train_loss, train_acc, train_precision, train_recall, train_f1 = train_variant(customVGGRemovedLayerModel, train_loader, criterion, optimizer, device)\n",
    "\n",
    "    # Evaluate model & calculate test loss and accuracy, and other metrics\n",
    "    # Modify the evaluate() function to return all necessary values\n",
    "    test_loss, test_acc, test_precision, test_recall, test_f1 = evaluate_variant(customVGGRemovedLayerModel, test_loader, criterion, device)\n",
    "\n",
    "    # Print the results for this epoch\n",
    "    print(\n",
    "        f\"Epoch {epoch+1}: \"\n",
    "        f\"Train Loss={train_loss:.4f}, Train Acc={train_acc:.2f}%, Train Precision={train_precision:.2f}, \"\n",
    "        f\"Train Recall={train_recall:.2f}, Train F1={train_f1:.2f}, \"\n",
    "        f\"Test Loss={test_loss:.4f}, Test Acc={test_acc:.2f}%, Test Precision={test_precision:.2f}, \"\n",
    "        f\"Test Recall={test_recall:.2f}, Test F1={test_f1:.2f}\"\n",
    "    )\n",
    "    scheduler.step()  # Step the scheduler to adjust the learning rate"
   ]
  },
  {
   "cell_type": "code",
   "execution_count": null,
   "id": "2373591ec6d90305",
   "metadata": {
    "ExecuteTime": {
     "end_time": "2024-11-27T02:28:11.386632Z",
     "start_time": "2024-11-27T02:23:30.047995Z"
    }
   },
   "outputs": [],
   "source": [
    "# Training Loop for CustomVGG2\n",
    "scheduler = optim.lr_scheduler.StepLR(optimizer, step_size=5, gamma=0.1)  # Reduces learning rate by factor of 0.1 every 5 epochs\n",
    "\n",
    "for epoch in range(10):\n",
    "    customVGG2Model = CustomVGG2(num_classes=10).to(device)\n",
    "    customVGG2Model.to(device)  # Ensure model is on the right device\n",
    "\n",
    "    # train model, calculate train loss and accuracy, and other metrics\n",
    "    # Modify the train() function to return all necessary values\n",
    "    train_loss, train_acc, train_precision, train_recall, train_f1 = train_variant(customVGG2Model, train_loader, criterion, optimizer, device)\n",
    "\n",
    "    # Evaluate model & calculate test loss and accuracy, and other metrics\n",
    "    # Modify the evaluate() function to return all necessary values\n",
    "    test_loss, test_acc, test_precision, test_recall, test_f1 = evaluate_variant(customVGG2Model, test_loader, criterion, device)\n",
    "\n",
    "    # Print the results for this epoch\n",
    "    print(\n",
    "        f\"Epoch {epoch+1}: \"\n",
    "        f\"Train Loss={train_loss:.4f}, Train Acc={train_acc:.2f}%, Train Precision={train_precision:.2f}, \"\n",
    "        f\"Train Recall={train_recall:.2f}, Train F1={train_f1:.2f}, \"\n",
    "        f\"Test Loss={test_loss:.4f}, Test Acc={test_acc:.2f}%, Test Precision={test_precision:.2f}, \"\n",
    "        f\"Test Recall={test_recall:.2f}, Test F1={test_f1:.2f}\"\n",
    "    )\n",
    "    # Print the results for this epoch\n",
    "    print(\n",
    "        f\"Epoch {epoch+1}: \"\n",
    "        f\"Train Loss={train_loss:.4f}, Train Acc={train_acc:.2f}%, \"\n",
    "        f\"Test Loss={test_loss:.4f}, Test Acc={test_acc:.2f}%\"\n",
    "    )\n",
    "    scheduler.step()  # Step the scheduler to adjust the learning rate\n"
   ]
  },
  {
   "cell_type": "code",
   "execution_count": null,
   "id": "dee86a45bad58348",
   "metadata": {
    "ExecuteTime": {
     "end_time": "2024-11-27T02:46:35.482269Z",
     "start_time": "2024-11-27T02:41:45.535464Z"
    }
   },
   "outputs": [],
   "source": [
    "# Training Loop for CustomVGG7\n",
    "scheduler = optim.lr_scheduler.StepLR(optimizer, step_size=5, gamma=0.1)  # Reduces learning rate by factor of 0.1 every 5 epochs\n",
    "\n",
    "for epoch in range(10):\n",
    "    customVGG7Model = CustomVGG7(num_classes=10).to(device)\n",
    "    customVGG7Model.to(device)  # Ensure model is on the right device\n",
    "\n",
    "    train_loss, train_acc, train_precision, train_recall, train_f1 = train_variant(\n",
    "        customVGG7Model, train_loader, criterion, optimizer, device\n",
    "    )\n",
    "\n",
    "    # Evaluate model & calculate test loss and accuracy, and other metrics\n",
    "    # Ensure the model is in evaluation mode\n",
    "    customVGG7Model.eval()\n",
    "    test_loss, test_acc, test_precision, test_recall, test_f1 = evaluate_variant(\n",
    "        customVGG7Model, test_loader, criterion, device\n",
    "    )\n",
    "\n",
    "    # Print the results for this epoch\n",
    "    print(\n",
    "        f\"Epoch {epoch+1}: \"\n",
    "        f\"Train Loss={train_loss:.4f}, Train Acc={train_acc:.2f}%, Train Precision={train_precision:.2f}, \"\n",
    "        f\"Train Recall={train_recall:.2f}, Train F1={train_f1:.2f}, \"\n",
    "        f\"Test Loss={test_loss:.4f}, Test Acc={test_acc:.2f}%, Test Precision={test_precision:.2f}, \"\n",
    "        f\"Test Recall={test_recall:.2f}, Test F1={test_f1:.2f}\"\n",
    "    )\n",
    "    scheduler.step()  # Step the scheduler to adjust the learning rate\n"
   ]
  },
  {
   "cell_type": "code",
   "execution_count": null,
   "id": "eb5413b48aa61e76",
   "metadata": {
    "ExecuteTime": {
     "end_time": "2024-11-27T02:49:32.656632Z",
     "start_time": "2024-11-27T02:49:19.537440Z"
    }
   },
   "outputs": [],
   "source": [
    "import torch\n",
    "import numpy as np\n",
    "import matplotlib.pyplot as plt\n",
    "import seaborn as sns\n",
    "from sklearn.metrics import confusion_matrix\n",
    "\n",
    "# Function to generate the confusion matrix\n",
    "def generate_confusion_matrix(model, test_loader, device):\n",
    "    model.eval()\n",
    "    all_preds = []  # List to store all predictions\n",
    "    all_labels = []  # List to store all true labels\n",
    "\n",
    "    with torch.no_grad():\n",
    "        for inputs, labels in test_loader:\n",
    "            inputs, labels = inputs.to(device), labels.to(device)\n",
    "            outputs = model(inputs)\n",
    "            _, predicted = torch.max(outputs, 1)\n",
    "\n",
    "            # Append the predictions and true labels\n",
    "            all_preds.extend(predicted.cpu().numpy())\n",
    "            all_labels.extend(labels.cpu().numpy())\n",
    "\n",
    "    # Calculate the confusion matrix\n",
    "    cm = confusion_matrix(all_labels, all_preds)\n",
    "\n",
    "    return cm\n",
    "\n",
    "# Function to plot the confusion matrix\n",
    "def plot_confusion_matrix(cm, class_names):\n",
    "    plt.figure(figsize=(8, 6))\n",
    "    sns.heatmap(cm, annot=True, fmt='d', cmap='Blues', xticklabels=class_names, yticklabels=class_names)\n",
    "    plt.xlabel('Predicted')\n",
    "    plt.ylabel('True')\n",
    "    plt.title('Confusion Matrix')\n",
    "    plt.show()\n",
    "\n",
    "class_names = [str(i) for i in range(10)]  # Class names for CIFAR-10 (0-9)\n",
    "cm = generate_confusion_matrix(model, test_loader, device)\n",
    "plot_confusion_matrix(cm, class_names)\n"
   ]
  },
  {
   "cell_type": "code",
   "execution_count": null,
   "id": "ad43fcf1614dc45f",
   "metadata": {
    "ExecuteTime": {
     "end_time": "2024-11-27T02:49:46.086059Z",
     "start_time": "2024-11-27T02:49:32.664638Z"
    }
   },
   "outputs": [],
   "source": [
    "cm2 = generate_confusion_matrix(customVGGAddedLayerModel, test_loader, device)\n",
    "plot_confusion_matrix(cm2, class_names)"
   ]
  },
  {
   "cell_type": "code",
   "execution_count": null,
   "id": "89f4fe19e2d20f19",
   "metadata": {
    "ExecuteTime": {
     "end_time": "2024-11-27T02:49:59.451497Z",
     "start_time": "2024-11-27T02:49:46.213852Z"
    }
   },
   "outputs": [],
   "source": [
    "cm3 = generate_confusion_matrix(customVGGRemovedLayerModel, test_loader, device)\n",
    "plot_confusion_matrix(cm3, class_names)"
   ]
  },
  {
   "cell_type": "code",
   "execution_count": null,
   "id": "cf4fd793028c1993",
   "metadata": {
    "ExecuteTime": {
     "end_time": "2024-11-27T02:50:12.649603Z",
     "start_time": "2024-11-27T02:49:59.519350Z"
    }
   },
   "outputs": [],
   "source": [
    "cm4 = generate_confusion_matrix(customVGG2Model, test_loader, device)\n",
    "plot_confusion_matrix(cm4, class_names)\n"
   ]
  },
  {
   "cell_type": "code",
   "execution_count": null,
   "id": "e62523af988e90ea",
   "metadata": {
    "ExecuteTime": {
     "end_time": "2024-11-27T02:50:25.895029Z",
     "start_time": "2024-11-27T02:50:12.653609Z"
    }
   },
   "outputs": [],
   "source": [
    "cm5 = generate_confusion_matrix(customVGG7Model, test_loader, device)\n",
    "plot_confusion_matrix(cm5, class_names)"
   ]
  },
  {
   "cell_type": "code",
   "execution_count": null,
   "id": "ce0cf28b9fa5ffe9",
   "metadata": {
    "ExecuteTime": {
     "end_time": "2024-11-27T03:05:43.248379Z",
     "start_time": "2024-11-27T03:05:43.245110Z"
    }
   },
   "outputs": [],
   "source": [
    "# Save the trained model and optimizer\n",
    "def save_model(model, optimizer, model_name=\"model_name.pth\"):\n",
    "    # Save the state dictionaries for the model and optimizer\n",
    "    torch.save({\n",
    "        'model_state_dict': model.state_dict(),\n",
    "        'optimizer_state_dict': optimizer.state_dict(),\n",
    "    }, model_name)\n",
    "    print(f\"Model saved to {model_name}\")\n"
   ]
  },
  {
   "cell_type": "markdown",
   "id": "713ada4a",
   "metadata": {},
   "source": [
    "# Save the models\n"
   ]
  },
  {
   "cell_type": "code",
   "execution_count": null,
   "id": "9ce396fdec0c3904",
   "metadata": {
    "ExecuteTime": {
     "end_time": "2024-11-27T03:16:53.871473Z",
     "start_time": "2024-11-27T03:16:51.075387Z"
    }
   },
   "outputs": [],
   "source": [
    "save_model(model, optimizer, \"base_model.pth\")\n",
    "save_model(customVGGAddedLayerModel, optimizer, \"added_layer_model.pth\")\n",
    "save_model(customVGGRemovedLayerModel, optimizer, \"removed_layer_model.pth\")\n",
    "save_model(customVGG2Model, optimizer, \"custom2x2_kernel_model.pth\")\n",
    "save_model(customVGG7Model, optimizer, \"custom7x7_kernel_model.pth\")\n"
   ]
  },
  {
   "cell_type": "markdown",
   "id": "1ad4f9fa",
   "metadata": {},
   "source": [
    "# For the instructor\n",
    "---\n",
    "\n",
    "1. Load the model classes above - VG11, CustomVGGAddedLayer, CustomVGGRemovedLayer, CustomVGG2, CustomVGG7\n",
    "2. "
   ]
  },
  {
   "cell_type": "code",
   "execution_count": 40,
   "id": "4a736794964a7cf0",
   "metadata": {
    "ExecuteTime": {
     "end_time": "2024-11-27T03:16:58.420852Z",
     "start_time": "2024-11-27T03:16:58.416863Z"
    }
   },
   "outputs": [],
   "source": [
    "import torch\n",
    "import torch.optim as optim\n",
    "\n",
    "def load_model(model_class, *model_args, model_name=\"model_name.pth\"):\n",
    "    # Create an instance of the model architecture\n",
    "    model = model_class(*model_args)\n",
    "\n",
    "    # Initialize an optimizer for the model's parameters\n",
    "    optimizer = optim.SGD(model.parameters(), lr=0.01, momentum=0.9)\n",
    "\n",
    "    # Load the checkpoint\n",
    "    checkpoint = torch.load(model_name)\n",
    "\n",
    "    # Filter incompatible keys during model state dict loading\n",
    "    model_state = checkpoint['model_state_dict']\n",
    "    model.load_state_dict(model_state, strict=False)\n",
    "\n",
    "    # Load optimizer state if possible\n",
    "    try:\n",
    "        optimizer.load_state_dict(checkpoint['optimizer_state_dict'])\n",
    "    except ValueError:\n",
    "        print(f\"Warning: Optimizer state mismatch for {model_name}. Skipping optimizer state loading.\")\n",
    "\n",
    "    # Move model to the appropriate device\n",
    "    device = torch.device(\"cuda\" if torch.cuda.is_available() else \"cpu\")\n",
    "    model = model.to(device)\n",
    "    model.eval()  # Set the model to evaluation mode\n",
    "\n",
    "    print(f\"Model loaded from {model_name}\")\n",
    "    return model, optimizer\n",
    "\n",
    "\n"
   ]
  },
  {
   "cell_type": "code",
   "execution_count": 41,
   "id": "1570f96a8ff8f4ad",
   "metadata": {
    "ExecuteTime": {
     "end_time": "2024-11-27T03:18:41.722811Z",
     "start_time": "2024-11-27T03:18:41.694972Z"
    }
   },
   "outputs": [
    {
     "name": "stdout",
     "output_type": "stream",
     "text": [
      "Model loaded from base_model.pth\n",
      "Warning: Optimizer state mismatch for added_layer_model.pth. Skipping optimizer state loading.\n",
      "Model loaded from added_layer_model.pth\n",
      "Warning: Optimizer state mismatch for removed_layer_model.pth. Skipping optimizer state loading.\n",
      "Model loaded from removed_layer_model.pth\n",
      "Warning: Optimizer state mismatch for custom2x2_kernel_model.pth. Skipping optimizer state loading.\n",
      "Model loaded from custom2x2_kernel_model.pth\n",
      "Warning: Optimizer state mismatch for custom7x7_kernel_model.pth. Skipping optimizer state loading.\n",
      "Model loaded from custom7x7_kernel_model.pth\n"
     ]
    }
   ],
   "source": [
    "# Define input and architecture parameters used during training\n",
    "input_size = 50  # For PCA-reduced input\n",
    "hidden_size1 = 512\n",
    "hidden_size2 = 512\n",
    "output_size = 10  # Number of classes in CIFAR-10\n",
    "\n",
    "# Define an optimizer instance\n",
    "# optimizer = optim.SGD([], lr=0.01, momentum=0.9)  # Parameters will be loaded\n",
    "\n",
    "# Load each model and its optimizer if needed\n",
    "\n",
    "num_classes = 10  # CIFAR-10 has 10 classes\n",
    "\n",
    "# Load each model and its optimizer using the updated load_model function\n",
    "base_model, base_optimizer = load_model(VGG11, num_classes, model_name=\"base_model.pth\")\n",
    "added_layer_model, added_layer_optimizer = load_model(CustomVGGAddedLayer, num_classes, model_name=\"added_layer_model.pth\")\n",
    "removed_layer_model, removed_layer_optimizer = load_model(CustomVGGRemovedLayer, num_classes, model_name=\"removed_layer_model.pth\")\n",
    "custom2x2_kernel_model, custom2x2_kernel_optimizer = load_model(CustomVGG2, num_classes, model_name=\"custom2x2_kernel_model.pth\")\n",
    "custom7x7_kernel_model, custom7x7_kernel_optimizer = load_model(CustomVGG7, num_classes, model_name=\"custom7x7_kernel_model.pth\")\n",
    "\n"
   ]
  },
  {
   "cell_type": "markdown",
   "id": "fc04d878",
   "metadata": {},
   "source": [
    "# To import `test_loader`, run the above kernel from the begininng to cell 3."
   ]
  },
  {
   "cell_type": "code",
   "execution_count": 42,
   "id": "5d29dd4e",
   "metadata": {},
   "outputs": [
    {
     "data": {
      "image/png": "[encoded data removed]",
      "text/plain": [
       "<Figure size 800x600 with 2 Axes>"
      ]
     },
     "metadata": {},
     "output_type": "display_data"
    }
   ],
   "source": [
    "class_names = [str(i) for i in range(10)]  # Class names for CIFAR-10 (0-9)\n",
    "cm = generate_confusion_matrix(base_model, test_loader, device)\n",
    "plot_confusion_matrix(cm, class_names)"
   ]
  },
  {
   "cell_type": "code",
   "execution_count": 43,
   "id": "b2643fc7",
   "metadata": {},
   "outputs": [
    {
     "data": {
      "image/png": "[encoded data removed]",
      "text/plain": [
       "<Figure size 800x600 with 2 Axes>"
      ]
     },
     "metadata": {},
     "output_type": "display_data"
    }
   ],
   "source": [
    "cm2 = generate_confusion_matrix(added_layer_model, test_loader, device)\n",
    "\n",
    "plot_confusion_matrix(cm2, class_names)"
   ]
  },
  {
   "cell_type": "code",
   "execution_count": null,
   "id": "67f48f07",
   "metadata": {},
   "outputs": [],
   "source": [
    "\n",
    "cm3 = generate_confusion_matrix(removed_layer_model, test_loader, device)\n",
    "plot_confusion_matrix(cm3, class_names)"
   ]
  },
  {
   "cell_type": "code",
   "execution_count": null,
   "id": "25228963",
   "metadata": {},
   "outputs": [],
   "source": [
    "\n",
    "\n",
    "cm4 = generate_confusion_matrix(custom2x2_kernel_model, test_loader, device)\n",
    "plot_confusion_matrix(cm4, class_names)"
   ]
  },
  {
   "cell_type": "code",
   "execution_count": null,
   "id": "1a0f29f9",
   "metadata": {},
   "outputs": [],
   "source": [
    "cm5 = generate_confusion_matrix(custom7x7_kernel_model, test_loader, device)\n",
    "plot_confusion_matrix(cm5, class_names)\n"
   ]
  }
 ],
 "metadata": {
  "kernelspec": {
   "display_name": "Python 3",
   "language": "python",
   "name": "python3"
  },
  "language_info": {
   "codemirror_mode": {
    "name": "ipython",
    "version": 3
   },
   "file_extension": ".py",
   "mimetype": "text/x-python",
   "name": "python",
   "nbconvert_exporter": "python",
   "pygments_lexer": "ipython3",
   "version": "3.10.7"
  }
 },
 "nbformat": 4,
 "nbformat_minor": 5
}
